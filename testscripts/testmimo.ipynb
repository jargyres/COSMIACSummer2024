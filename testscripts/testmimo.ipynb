{
 "cells": [
  {
   "cell_type": "code",
   "execution_count": 1,
   "metadata": {},
   "outputs": [],
   "source": [
    "import bladerf\n",
    "from bladerf import _bladerf\n",
    "import matplotlib.pyplot as plt"
   ]
  },
  {
   "cell_type": "code",
   "execution_count": 4,
   "metadata": {},
   "outputs": [
    {
     "ename": "NoDevError",
     "evalue": "No devices available",
     "output_type": "error",
     "traceback": [
      "\u001b[0;31m---------------------------------------------------------------------------\u001b[0m",
      "\u001b[0;31mNoDevError\u001b[0m                                Traceback (most recent call last)",
      "Cell \u001b[0;32mIn[4], line 1\u001b[0m\n\u001b[0;32m----> 1\u001b[0m d \u001b[38;5;241m=\u001b[39m \u001b[43mbladerf\u001b[49m\u001b[38;5;241;43m.\u001b[39;49m\u001b[43mBladeRF\u001b[49m\u001b[43m(\u001b[49m\u001b[43m)\u001b[49m\n\u001b[1;32m      4\u001b[0m ch_rx_0 \u001b[38;5;241m=\u001b[39m d\u001b[38;5;241m.\u001b[39mChannel(bladerf\u001b[38;5;241m.\u001b[39mCHANNEL_RX(\u001b[38;5;241m0\u001b[39m))\n\u001b[1;32m      5\u001b[0m ch_rx_1 \u001b[38;5;241m=\u001b[39m d\u001b[38;5;241m.\u001b[39mChannel(bladerf\u001b[38;5;241m.\u001b[39mCHANNEL_RX(\u001b[38;5;241m1\u001b[39m))\n",
      "File \u001b[0;32m~/bladerf_testing/bladerfvenv/lib/python3.10/site-packages/bladerf-1.3.0-py3.10.egg/bladerf/_bladerf.py:502\u001b[0m, in \u001b[0;36mBladeRF.__init__\u001b[0;34m(self, device_identifier, devinfo)\u001b[0m\n\u001b[1;32m    500\u001b[0m \u001b[38;5;28;01mdef\u001b[39;00m \u001b[38;5;21m__init__\u001b[39m(\u001b[38;5;28mself\u001b[39m, device_identifier\u001b[38;5;241m=\u001b[39m\u001b[38;5;28;01mNone\u001b[39;00m, devinfo\u001b[38;5;241m=\u001b[39m\u001b[38;5;28;01mNone\u001b[39;00m):\n\u001b[1;32m    501\u001b[0m     \u001b[38;5;28mself\u001b[39m\u001b[38;5;241m.\u001b[39mdev \u001b[38;5;241m=\u001b[39m ffi\u001b[38;5;241m.\u001b[39mnew(\u001b[38;5;124m\"\u001b[39m\u001b[38;5;124mstruct bladerf *[1]\u001b[39m\u001b[38;5;124m\"\u001b[39m)\n\u001b[0;32m--> 502\u001b[0m     \u001b[38;5;28;43mself\u001b[39;49m\u001b[38;5;241;43m.\u001b[39;49m\u001b[43mopen\u001b[49m\u001b[43m(\u001b[49m\u001b[43mdevice_identifier\u001b[49m\u001b[43m,\u001b[49m\u001b[43m \u001b[49m\u001b[43mdevinfo\u001b[49m\u001b[43m)\u001b[49m\n",
      "File \u001b[0;32m~/bladerf_testing/bladerfvenv/lib/python3.10/site-packages/bladerf-1.3.0-py3.10.egg/bladerf/_bladerf.py:517\u001b[0m, in \u001b[0;36mBladeRF.open\u001b[0;34m(self, device_identifier, devinfo)\u001b[0m\n\u001b[1;32m    515\u001b[0m \u001b[38;5;28;01melse\u001b[39;00m:\n\u001b[1;32m    516\u001b[0m     ret \u001b[38;5;241m=\u001b[39m libbladeRF\u001b[38;5;241m.\u001b[39mbladerf_open(\u001b[38;5;28mself\u001b[39m\u001b[38;5;241m.\u001b[39mdev, ffi\u001b[38;5;241m.\u001b[39mNULL)\n\u001b[0;32m--> 517\u001b[0m \u001b[43m_check_error\u001b[49m\u001b[43m(\u001b[49m\u001b[43mret\u001b[49m\u001b[43m)\u001b[49m\n",
      "File \u001b[0;32m~/bladerf_testing/bladerfvenv/lib/python3.10/site-packages/bladerf-1.3.0-py3.10.egg/bladerf/_bladerf.py:424\u001b[0m, in \u001b[0;36m_check_error\u001b[0;34m(err)\u001b[0m\n\u001b[1;32m    421\u001b[0m \u001b[38;5;28;01mexcept\u001b[39;00m \u001b[38;5;167;01mValueError\u001b[39;00m:\n\u001b[1;32m    422\u001b[0m     errorval \u001b[38;5;241m=\u001b[39m ReturnCode(\u001b[38;5;241m0\u001b[39m)\n\u001b[0;32m--> 424\u001b[0m \u001b[38;5;28;01mraise\u001b[39;00m \u001b[38;5;28mglobals\u001b[39m()[errorval\u001b[38;5;241m.\u001b[39mname](err)\n",
      "\u001b[0;31mNoDevError\u001b[0m: No devices available"
     ]
    }
   ],
   "source": [
    "d = bladerf.BladeRF()\n",
    "\n",
    "\n",
    "ch_rx_0 = d.Channel(bladerf.CHANNEL_RX(0))\n",
    "ch_rx_1 = d.Channel(bladerf.CHANNEL_RX(1))\n",
    "ch_tx_0 = d.Channel(bladerf.CHANNEL_TX(0))\n",
    "ch_tx_1 = d.Channel(bladerf.CHANNEL_TX(1))\n",
    "\n",
    "\n",
    "\n",
    "d.get_gain_modes(ch_rx_0)\n",
    "\n",
    "\n",
    "\n",
    "d.close()\n",
    "\n"
   ]
  },
  {
   "cell_type": "code",
   "execution_count": null,
   "metadata": {},
   "outputs": [],
   "source": [
    "sig = bladerf.TRIGGER_SIGNAL.J51_1.value\n",
    "\n",
    "\n",
    "masterChannel = bladerf.CHANNEL_TX(0)\n",
    "\n",
    "masterRole = bladerf.TRIGGER_ROLE.Master.value\n",
    "\n",
    "masterTrigger = d.master_trigger_init(masterChannel, sig)\n",
    "\n",
    "\n",
    "\n",
    "slaveChannel = bladerf.CHANNEL_RX(0)\n",
    "\n",
    "slaveRole = bladerf.TRIGGER_ROLE.Slave.value\n",
    "\n",
    "slaveTrigger = d.trigger_init(slaveChannel, slaveRole, sig)\n",
    "\n"
   ]
  },
  {
   "cell_type": "code",
   "execution_count": null,
   "metadata": {},
   "outputs": [],
   "source": [
    "print(\"Arming Both Triggers\")\n",
    "d.trigger_arm(masterTrigger, True)\n",
    "d.trigger_arm(slaveTrigger, True)\n",
    "\n",
    "\n",
    "d.trigger_state(masterTrigger)\n",
    "d.trigger_state(slaveTrigger)\n",
    "\n",
    "d.sync_config(layout = _bladerf.ChannelLayout.RX_X1,\n",
    "                       fmt            = _bladerf.Format.SC16_Q11,\n",
    "                       num_buffers    = 16,\n",
    "                       buffer_size    = 8192,\n",
    "                       num_transfers  = 8,\n",
    "                       stream_timeout = 10000)\n",
    "\n",
    "s = d.Channel(bladerf.CHANNEL_RX(0))\n",
    "s.enable = True\n",
    "\n",
    "\n",
    "# d.sync_rx()\n",
    "bytes_per_sample = 4\n",
    "buf = bytearray(1024*bytes_per_sample)\n",
    "\n",
    "num_samples = 1024\n"
   ]
  },
  {
   "cell_type": "code",
   "execution_count": null,
   "metadata": {},
   "outputs": [],
   "source": [
    "d.trigger_fire(masterTrigger)\n",
    "\n",
    "d.sync_rx(buf, num_samples=num_samples)\n",
    "\n",
    "# Disable module\n",
    "print( \"RX: Stop\" )\n",
    "s.enable = False\n",
    "\n",
    "print( \"RX: Done\" )"
   ]
  },
  {
   "cell_type": "code",
   "execution_count": null,
   "metadata": {},
   "outputs": [],
   "source": [
    "import numpy as np"
   ]
  },
  {
   "cell_type": "code",
   "execution_count": null,
   "metadata": {},
   "outputs": [],
   "source": [
    "dtype_data = np.dtype([('re', np.int16), ('im', np.int16)])\n",
    "\n",
    "proper_data = np.asanyarray(buf, dtype=dtype_data)\n",
    "\n",
    "math_data = proper_data.view(np.int16).astype(np.float32).view(np.complex64)\n",
    "\n",
    "default_data = np.asanyarray(buf, dtype=complex)\n"
   ]
  },
  {
   "cell_type": "code",
   "execution_count": null,
   "metadata": {},
   "outputs": [],
   "source": [
    "print(\"Default Format: {}\".format(default_data[:5]))\n",
    "print(\"\")\n",
    "print(\"Proper Format: {}\".format(proper_data[:5]))\n",
    "print(\"\")\n",
    "print(\"Math Format: {}\".format(math_data[:5]))"
   ]
  },
  {
   "cell_type": "code",
   "execution_count": null,
   "metadata": {},
   "outputs": [],
   "source": [
    "\n",
    "def plotPSD(data, fftWindow, Fs, Fc):\n",
    "    assert fftWindow in ['rectangular', 'bartlett', 'blackman',\n",
    "                         'hamming', 'hanning']\n",
    "\n",
    "    N = len(data)\n",
    "\n",
    "    # Generate the selected window\n",
    "    if fftWindow == \"rectangular\":\n",
    "        window = np.ones(N)\n",
    "    elif fftWindow == \"bartlett\":\n",
    "        window = np.bartlett(N)\n",
    "    elif fftWindow == \"blackman\":\n",
    "        window = np.blackman(N)\n",
    "    elif fftWindow == \"hamming\":\n",
    "        window = np.hamming(N)\n",
    "    elif fftWindow == \"hanning\":\n",
    "        window = np.hanning(N)\n",
    "\n",
    "    dft = np.fft.fft(data * window)\n",
    "\n",
    "    # if Fs == None:\n",
    "    #     # If the sample rate is known then plot PSD as\n",
    "    #     # Power/Freq in (dB/Hz)\n",
    "    plt.psd(data * window, NFFT=N, Fs=Fs, Fc=Fc)\n",
    "    #     print(\"first\")\n",
    "    # else:\n",
    "    #     # If sample rate is not known then plot PSD as\n",
    "    #     # Power/Freq as (dB/rad/sample)\n",
    "    #     plt.psd(data * window, NFFT=N, Fs=Fs)\n",
    "    #     print(\"second\")\n",
    "    plt.show()"
   ]
  },
  {
   "cell_type": "code",
   "execution_count": null,
   "metadata": {},
   "outputs": [],
   "source": [
    "plotPSD(math_data, fftWindow='rectangular', Fs=20e6, Fc=3e9)"
   ]
  }
 ],
 "metadata": {
  "kernelspec": {
   "display_name": "bladerfvenv",
   "language": "python",
   "name": "python3"
  },
  "language_info": {
   "codemirror_mode": {
    "name": "ipython",
    "version": 3
   },
   "file_extension": ".py",
   "mimetype": "text/x-python",
   "name": "python",
   "nbconvert_exporter": "python",
   "pygments_lexer": "ipython3",
   "version": "3.10.12"
  }
 },
 "nbformat": 4,
 "nbformat_minor": 2
}
